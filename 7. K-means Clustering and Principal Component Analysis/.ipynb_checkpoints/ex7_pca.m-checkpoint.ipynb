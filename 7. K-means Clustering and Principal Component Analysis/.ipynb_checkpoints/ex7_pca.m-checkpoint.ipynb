{
 "cells": [
  {
   "cell_type": "code",
   "execution_count": 1,
   "metadata": {
    "collapsed": true
   },
   "outputs": [],
   "source": [
    "import numpy as np\n",
    "import matplotlib.pyplot as plt\n",
    "import scipy.io\n",
    "%matplotlib inline"
   ]
  },
  {
   "cell_type": "code",
   "execution_count": 2,
   "metadata": {
    "collapsed": false
   },
   "outputs": [],
   "source": [
    "data = scipy.io.loadmat('data/ex7data1.mat')"
   ]
  },
  {
   "cell_type": "code",
   "execution_count": 3,
   "metadata": {
    "collapsed": false
   },
   "outputs": [
    {
     "data": {
      "text/plain": [
       "array([[ 3.38156267,  3.38911268],\n",
       "       [ 4.52787538,  5.8541781 ],\n",
       "       [ 2.65568187,  4.41199472],\n",
       "       [ 2.76523467,  3.71541365],\n",
       "       [ 2.84656011,  4.17550645]])"
      ]
     },
     "execution_count": 3,
     "metadata": {},
     "output_type": "execute_result"
    }
   ],
   "source": [
    "X = data['X']\n",
    "X[:5]"
   ]
  },
  {
   "cell_type": "code",
   "execution_count": 4,
   "metadata": {
    "collapsed": false
   },
   "outputs": [
    {
     "data": {
      "text/plain": [
       "[<matplotlib.lines.Line2D at 0x109926310>]"
      ]
     },
     "execution_count": 4,
     "metadata": {},
     "output_type": "execute_result"
    },
    {
     "data": {
      "image/png": "[encoded data removed]",
      "text/plain": [
       "<matplotlib.figure.Figure at 0x109885310>"
      ]
     },
     "metadata": {},
     "output_type": "display_data"
    }
   ],
   "source": [
    "plt.plot(X[:,0], X[:,1], 'bo')"
   ]
  },
  {
   "cell_type": "code",
   "execution_count": 5,
   "metadata": {
    "collapsed": false
   },
   "outputs": [
    {
     "name": "stdout",
     "output_type": "stream",
     "text": [
      "mu: [ 3.98926528  5.00280585]\n",
      "sigma: [ 1.16126017  1.01312201]\n",
      "[[-0.52331306 -1.59279252]\n",
      " [ 0.46381518  0.84034523]\n",
      " [-1.14839331 -0.58315891]\n",
      " [-1.05405373 -1.27071783]\n",
      " [-0.98402167 -0.81658417]]\n"
     ]
    }
   ],
   "source": [
    "def featureNormalize(X):\n",
    "    mu = X.mean(axis=0)\n",
    "    sigma = X.std(axis=0)\n",
    "    return (X - mu) / sigma ,mu, sigma\n",
    "X_norm, mu, sigma = featureNormalize(X)\n",
    "print 'mu: ' + str(mu)\n",
    "print 'sigma: ' + str(sigma)\n",
    "print X_norm[:5]"
   ]
  },
  {
   "cell_type": "code",
   "execution_count": 6,
   "metadata": {
    "collapsed": false
   },
   "outputs": [
    {
     "name": "stdout",
     "output_type": "stream",
     "text": [
      "[[-0.70710678 -0.70710678]\n",
      " [-0.70710678  0.70710678]]\n",
      "[ 1.73553038  0.26446962]\n"
     ]
    }
   ],
   "source": [
    "def pca(X):\n",
    "    sigma = 1. / X.shape[0] * np.dot(X.T, X)\n",
    "    U, S, V = np.linalg.svd(sigma)\n",
    "    return U, S\n",
    "U,S = pca(X_norm)\n",
    "print U\n",
    "print S"
   ]
  },
  {
   "cell_type": "code",
   "execution_count": 7,
   "metadata": {
    "collapsed": false
   },
   "outputs": [
    {
     "data": {
      "image/png": "[encoded data removed]",
      "text/plain": [
       "<matplotlib.figure.Figure at 0x109a80650>"
      ]
     },
     "metadata": {},
     "output_type": "display_data"
    }
   ],
   "source": [
    "plt.figure(figsize=(5,5))\n",
    "plt.plot(X[:,0], X[:,1], 'bo')\n",
    "mu0 = mu + 1.5 * S[0] * U[:,0].T\n",
    "mu1 = mu + 1.5 * S[1] * U[:,1].T\n",
    "plt.plot([mu[0], mu0[0]], [mu[1], mu0[1]], '-k', lw=2)\n",
    "plt.plot([mu[0], mu1[0]], [mu[1], mu1[1]], '-k', lw=2)\n",
    "plt.show()"
   ]
  },
  {
   "cell_type": "code",
   "execution_count": 8,
   "metadata": {
    "collapsed": false
   },
   "outputs": [
    {
     "data": {
      "image/png": "[encoded data removed]",
      "text/plain": [
       "<matplotlib.figure.Figure at 0x1098731d0>"
      ]
     },
     "metadata": {},
     "output_type": "display_data"
    }
   ],
   "source": [
    "plt.figure()\n",
    "plt.scatter(X_norm[:, 0], X_norm[:, 1], marker='o', color='b', facecolors='none', lw=1.0)\n",
    "plt.axis([-4, 3, -4, 3]) #axis square\n",
    "plt.axis('equal')\n",
    "plt.show()"
   ]
  },
  {
   "cell_type": "code",
   "execution_count": 9,
   "metadata": {
    "collapsed": false
   },
   "outputs": [
    {
     "data": {
      "text/plain": [
       "array([[ 1.49631261],\n",
       "       [-0.92218067],\n",
       "       [ 1.22439232],\n",
       "       [ 1.64386173],\n",
       "       [ 1.2732206 ]])"
      ]
     },
     "execution_count": 9,
     "metadata": {},
     "output_type": "execute_result"
    }
   ],
   "source": [
    "K = 1\n",
    "def projectData(X, U, K):\n",
    "    Z = np.zeros((X.shape[0], K))\n",
    "    for i in range(X.shape[0]):\n",
    "        u = U[:,:K].T\n",
    "        Z[i] = u.dot(X[i])\n",
    "    return Z\n",
    "Z = projectData(X_norm, U, K)\n",
    "Z[:5]"
   ]
  },
  {
   "cell_type": "code",
   "execution_count": 10,
   "metadata": {
    "collapsed": false
   },
   "outputs": [
    {
     "data": {
      "text/plain": [
       "array([[-1.05805279, -1.05805279],\n",
       "       [ 0.65208021,  0.65208021],\n",
       "       [-0.86577611, -0.86577611],\n",
       "       [-1.16238578, -1.16238578],\n",
       "       [-0.90030292, -0.90030292]])"
      ]
     },
     "execution_count": 10,
     "metadata": {},
     "output_type": "execute_result"
    }
   ],
   "source": [
    "def recoverData(Z, U, K):\n",
    "    X_rec = np.zeros((Z.shape[0], U.shape[0]))\n",
    "    for i in range(Z.shape[0]):\n",
    "        X_rec[i] = U[:,:K].dot(Z[i])\n",
    "    return X_rec\n",
    "X_rec = recoverData(Z, U, K)\n",
    "X_rec[:5]"
   ]
  },
  {
   "cell_type": "code",
   "execution_count": 16,
   "metadata": {
    "collapsed": false
   },
   "outputs": [
    {
     "data": {
      "image/png": "[encoded data removed]",
      "text/plain": [
       "<matplotlib.figure.Figure at 0x10a10b390>"
      ]
     },
     "metadata": {},
     "output_type": "display_data"
    }
   ],
   "source": [
    "plt.scatter(X_rec[:, 0], X_rec[:, 1], marker='o', color='r', facecolor='none', lw=1.0)\n",
    "plt.scatter(X_norm[:, 0], X_norm[:, 1], marker='o', color='b', facecolor='none', lw=1.0)\n",
    "for i in range(len(X_norm)):\n",
    "    plt.scatter(X_norm[i, 0], X_norm[i, 1], marker='o', color='b', facecolor='none', lw=1.0)\n",
    "    plt.plot([X_norm[i, 0], X_rec[i, 0]], [X_norm[i, 1], X_rec[i, 1]], '--k')\n",
    "plt.grid(True)\n",
    "plt.show()"
   ]
  },
  {
   "cell_type": "code",
   "execution_count": null,
   "metadata": {
    "collapsed": true
   },
   "outputs": [],
   "source": []
  },
  {
   "cell_type": "code",
   "execution_count": null,
   "metadata": {
    "collapsed": true
   },
   "outputs": [],
   "source": []
  }
 ],
 "metadata": {
  "kernelspec": {
   "display_name": "Python 2",
   "language": "python",
   "name": "python2"
  },
  "language_info": {
   "codemirror_mode": {
    "name": "ipython",
    "version": 2
   },
   "file_extension": ".py",
   "mimetype": "text/x-python",
   "name": "python",
   "nbconvert_exporter": "python",
   "pygments_lexer": "ipython2",
   "version": "2.7.12"
  }
 },
 "nbformat": 4,
 "nbformat_minor": 0
}
