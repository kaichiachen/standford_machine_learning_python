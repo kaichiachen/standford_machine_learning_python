{
 "cells": [
  {
   "cell_type": "code",
   "execution_count": 28,
   "metadata": {
    "collapsed": true
   },
   "outputs": [],
   "source": [
    "import numpy as np\n",
    "import matplotlib.pyplot as plt\n",
    "import scipy.io\n",
    "from string import lower\n",
    "import re\n",
    "from porterStemmer import porterStemmer\n",
    "\n",
    "%matplotlib inline"
   ]
  },
  {
   "cell_type": "code",
   "execution_count": 8,
   "metadata": {
    "collapsed": false
   },
   "outputs": [],
   "source": [
    "file = open('data/emailSample1.txt', 'r')\n",
    "file_contents = file.readlines()"
   ]
  },
  {
   "cell_type": "code",
   "execution_count": 9,
   "metadata": {
    "collapsed": true
   },
   "outputs": [],
   "source": [
    "def getVocabList():\n",
    "    with open('data/vocab.txt') as f:\n",
    "        vocabList = []\n",
    "        for line in f:\n",
    "            idx, w = line.split()\n",
    "            vocabList.append(w)\n",
    "    return vocabList"
   ]
  },
  {
   "cell_type": "code",
   "execution_count": 39,
   "metadata": {
    "collapsed": false
   },
   "outputs": [
    {
     "name": "stdout",
     "output_type": "stream",
     "text": [
      "anyon\n",
      "anyon know\n",
      "know how\n",
      "how much\n",
      "much it\n",
      "it cost\n",
      "cost to\n",
      "to host\n",
      "host a\n",
      "a web\n",
      "web portal\n",
      "portal well\n",
      "well it\n",
      "it depend\n",
      "depend on\n",
      "on how\n",
      "how mani\n",
      "mani visitor\n",
      "visitor\n",
      "your\n",
      "your expect\n",
      "expect thi\n",
      "thi can\n",
      "can be\n",
      "be anywher\n",
      "anywher from\n",
      "from less\n",
      "less than\n",
      "than number\n",
      "number buck\n",
      "buck a\n",
      "a month\n",
      "month to\n",
      "to a\n",
      "a coupl\n",
      "coupl of\n",
      "of\n",
      "dollar\n",
      "dollar number\n",
      "number you\n",
      "you should\n",
      "should checkout\n",
      "checkout httpaddr\n",
      "httpaddr or\n",
      "or perhap\n",
      "perhap amazon\n",
      "amazon ecnumb\n",
      "ecnumb if\n",
      "if your\n",
      "your run\n",
      "run\n",
      "someth\n",
      "someth big\n",
      "big to\n",
      "to unsubscrib\n",
      "unsubscrib yourself\n",
      "yourself from\n",
      "from thi\n",
      "thi mail\n",
      "mail list\n",
      "list send\n",
      "send an\n",
      "an email\n",
      "email to\n",
      "to emailaddr\n",
      "emailaddr\n"
     ]
    }
   ],
   "source": [
    "def processEmail(email_contents):\n",
    "    vocabList = getVocabList()\n",
    "    word_indices = []\n",
    "    email_contents = lower(email_contents)\n",
    "    \n",
    "    rx = re.compile('<[^<>]+>|\\n')\n",
    "    email_contents = rx.sub(' ', email_contents)\n",
    "    \n",
    "    rx = re.compile('[0-9]+')\n",
    "    email_contents = rx.sub('number ', email_contents)\n",
    "    \n",
    "    rx = re.compile('(http|https)://[^\\s]*')\n",
    "    email_contents = rx.sub('httpaddr ', email_contents)\n",
    "    \n",
    "    rx = re.compile('[^\\s]+@[^\\s]+')\n",
    "    email_contents = rx.sub('emailaddr ', email_contents)\n",
    "    \n",
    "    rx = re.compile('[$]+')\n",
    "    email_contents = rx.sub('dollar ', email_contents)\n",
    "    \n",
    "    l = 0\n",
    "    \n",
    "    rx = re.compile('[^a-zA-Z0-9 ]')\n",
    "    email_contents = rx.sub('', email_contents).split()\n",
    "    \n",
    "    for str in email_contents:\n",
    "        try:\n",
    "            str = porterStemmer(str.strip())\n",
    "        except:\n",
    "            str = ''\n",
    "            continue\n",
    "        # Skip the word if it is too short\n",
    "        if len(str) < 1:\n",
    "            continue\n",
    "        \n",
    "        vocabSize = len(vocabList)\n",
    "        print str\n",
    "        for index in range(vocabSize):\n",
    "            if vocabList[index] == str:\n",
    "                if len(word_indices) == 0:\n",
    "                    word_indices = [index]\n",
    "                else:\n",
    "                    word_indices = np.row_stack((word_indices, [index]))\n",
    "        \n",
    "        if (l + len(str) + 1) > 78:\n",
    "            print str\n",
    "            l = 0\n",
    "        else:\n",
    "            print str,\n",
    "            l = l + len(str) + 1\n",
    "    \n",
    "    return word_indices\n",
    "    \n",
    "word_indices = processEmail(''.join(file_contents))"
   ]
  },
  {
   "cell_type": "code",
   "execution_count": 40,
   "metadata": {
    "collapsed": true
   },
   "outputs": [],
   "source": [
    "def emailFeatures(word_indices):\n",
    "    n = 1899\n",
    "    x = np.zeros(n)\n",
    "    x[word_indices] = 1\n",
    "    return x\n",
    "features = emailFeatures(word_indices)"
   ]
  },
  {
   "cell_type": "code",
   "execution_count": 42,
   "metadata": {
    "collapsed": false
   },
   "outputs": [
    {
     "data": {
      "text/plain": [
       "(array([  70,   85,   88,  161,  180,  237,  369,  374,  430,  476,  529,\n",
       "         530,  591,  687,  789,  793,  798,  809,  882,  915,  944,  960,\n",
       "         991, 1001, 1061, 1076, 1119, 1161, 1170, 1181, 1236, 1439, 1476,\n",
       "        1509, 1546, 1662, 1675, 1698, 1757, 1821, 1830, 1892, 1894, 1895]),)"
      ]
     },
     "execution_count": 42,
     "metadata": {},
     "output_type": "execute_result"
    }
   ],
   "source": [
    "np.where(features == 1)"
   ]
  }
 ],
 "metadata": {
  "kernelspec": {
   "display_name": "Python 2",
   "language": "python",
   "name": "python2"
  },
  "language_info": {
   "codemirror_mode": {
    "name": "ipython",
    "version": 2
   },
   "file_extension": ".py",
   "mimetype": "text/x-python",
   "name": "python",
   "nbconvert_exporter": "python",
   "pygments_lexer": "ipython2",
   "version": "2.7.12"
  }
 },
 "nbformat": 4,
 "nbformat_minor": 0
}
