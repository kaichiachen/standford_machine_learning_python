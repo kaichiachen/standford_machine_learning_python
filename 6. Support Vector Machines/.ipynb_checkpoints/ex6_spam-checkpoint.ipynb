{
 "cells": [
  {
   "cell_type": "code",
   "execution_count": 1,
   "metadata": {
    "collapsed": true
   },
   "outputs": [],
   "source": [
    "import numpy as np\n",
    "import matplotlib.pyplot as plt\n",
    "import scipy.io\n",
    "from string import lower\n",
    "import re\n",
    "from porterStemmer import porterStemmer\n",
    "from sklearn import svm\n",
    "%matplotlib inline"
   ]
  },
  {
   "cell_type": "code",
   "execution_count": 2,
   "metadata": {
    "collapsed": false
   },
   "outputs": [
    {
     "data": {
      "text/plain": [
       "['> Anyone knows how much it costs to host a web portal ?\\n',\n",
       " '>\\n',\n",
       " \"Well, it depends on how many visitors you're expecting.\\n\",\n",
       " 'This can be anywhere from less than 10 bucks a month to a couple of $100. \\n',\n",
       " 'You should checkout http://www.rackspace.com/ or perhaps Amazon EC2 \\n',\n",
       " 'if youre running something big..\\n',\n",
       " '\\n',\n",
       " 'To unsubscribe yourself from this mailing list, send an email to:\\n',\n",
       " 'groupname-unsubscribe@egroups.com\\n',\n",
       " '\\n']"
      ]
     },
     "execution_count": 2,
     "metadata": {},
     "output_type": "execute_result"
    }
   ],
   "source": [
    "file = open('data/emailSample1.txt', 'r')\n",
    "file_contents = file.readlines()\n",
    "file_contents"
   ]
  },
  {
   "cell_type": "code",
   "execution_count": 3,
   "metadata": {
    "collapsed": false
   },
   "outputs": [
    {
     "data": {
      "text/plain": [
       "['aa', 'ab', 'abil', 'abl', 'about']"
      ]
     },
     "execution_count": 3,
     "metadata": {},
     "output_type": "execute_result"
    }
   ],
   "source": [
    "def getVocabList():\n",
    "    with open('data/vocab.txt') as f:\n",
    "        vocabList = []\n",
    "        for line in f:\n",
    "            idx, w = line.split()\n",
    "            vocabList.append(w)\n",
    "    return vocabList\n",
    "getVocabList()[:5]"
   ]
  },
  {
   "cell_type": "code",
   "execution_count": 4,
   "metadata": {
    "collapsed": false
   },
   "outputs": [
    {
     "data": {
      "text/plain": [
       "array([[  85],\n",
       "       [ 915],\n",
       "       [ 793],\n",
       "       [1076],\n",
       "       [ 882]])"
      ]
     },
     "execution_count": 4,
     "metadata": {},
     "output_type": "execute_result"
    }
   ],
   "source": [
    "def processEmail(email_contents):\n",
    "    vocabList = getVocabList()\n",
    "    word_indices = []\n",
    "    email_contents = lower(email_contents)\n",
    "    \n",
    "    rx = re.compile('<[^<>]+>|\\n')\n",
    "    email_contents = rx.sub(' ', email_contents)\n",
    "    \n",
    "    rx = re.compile('[0-9]+')\n",
    "    email_contents = rx.sub('number ', email_contents)\n",
    "    \n",
    "    rx = re.compile('(http|https)://[^\\s]*')\n",
    "    email_contents = rx.sub('httpaddr ', email_contents)\n",
    "    \n",
    "    rx = re.compile('[^\\s]+@[^\\s]+')\n",
    "    email_contents = rx.sub('emailaddr ', email_contents)\n",
    "    \n",
    "    rx = re.compile('[$]+')\n",
    "    email_contents = rx.sub('dollar ', email_contents)\n",
    "    \n",
    "    l = 0\n",
    "    \n",
    "    rx = re.compile('[^a-zA-Z0-9 ]')\n",
    "    email_contents = rx.sub('', email_contents).split()\n",
    "    \n",
    "    for str in email_contents:\n",
    "        try:\n",
    "            str = porterStemmer(str.strip())\n",
    "        except:\n",
    "            str = ''\n",
    "            continue\n",
    "        # Skip the word if it is too short\n",
    "        if len(str) < 1:\n",
    "            continue\n",
    "        \n",
    "        vocabSize = len(vocabList)\n",
    "        \n",
    "        for index in range(vocabSize):\n",
    "            if vocabList[index] == str:\n",
    "                if len(word_indices) == 0:\n",
    "                    word_indices = [index]\n",
    "                else:\n",
    "                    word_indices = np.row_stack((word_indices, [index]))\n",
    "        \n",
    "        if (l + len(str) + 1) > 78:\n",
    "            l = 0\n",
    "        else:\n",
    "            l = l + len(str) + 1\n",
    "    \n",
    "    return word_indices\n",
    "    \n",
    "word_indices = processEmail(''.join(file_contents))\n",
    "word_indices[:5]"
   ]
  },
  {
   "cell_type": "code",
   "execution_count": 5,
   "metadata": {
    "collapsed": false
   },
   "outputs": [
    {
     "data": {
      "text/plain": [
       "array([ 0.,  0.,  0.,  0.,  0.])"
      ]
     },
     "execution_count": 5,
     "metadata": {},
     "output_type": "execute_result"
    }
   ],
   "source": [
    "def emailFeatures(word_indices):\n",
    "    n = 1899\n",
    "    x = np.zeros(n)\n",
    "    x[word_indices] = 1\n",
    "    return x\n",
    "features = emailFeatures(word_indices)\n",
    "features[:5]"
   ]
  },
  {
   "cell_type": "code",
   "execution_count": 6,
   "metadata": {
    "collapsed": false
   },
   "outputs": [],
   "source": [
    "data = scipy.io.loadmat('data/spamTrain.mat')"
   ]
  },
  {
   "cell_type": "code",
   "execution_count": 7,
   "metadata": {
    "collapsed": false
   },
   "outputs": [
    {
     "name": "stdout",
     "output_type": "stream",
     "text": [
      "[[0 0 0 ..., 0 0 0]\n",
      " [0 0 0 ..., 0 0 0]\n",
      " [0 0 0 ..., 0 0 0]\n",
      " [0 0 0 ..., 0 0 0]\n",
      " [0 0 0 ..., 0 0 0]]\n",
      "[1 1 0 0 0]\n"
     ]
    }
   ],
   "source": [
    "X = data['X']\n",
    "y = data['y'].flatten()\n",
    "print X[:5]\n",
    "print y[:5]"
   ]
  },
  {
   "cell_type": "code",
   "execution_count": 8,
   "metadata": {
    "collapsed": false
   },
   "outputs": [],
   "source": [
    "model = svm.SVC(C=0.1,kernel='linear')"
   ]
  },
  {
   "cell_type": "code",
   "execution_count": 9,
   "metadata": {
    "collapsed": false
   },
   "outputs": [
    {
     "data": {
      "text/plain": [
       "SVC(C=0.1, cache_size=200, class_weight=None, coef0=0.0,\n",
       "  decision_function_shape=None, degree=3, gamma='auto', kernel='linear',\n",
       "  max_iter=-1, probability=False, random_state=None, shrinking=True,\n",
       "  tol=0.001, verbose=False)"
      ]
     },
     "execution_count": 9,
     "metadata": {},
     "output_type": "execute_result"
    }
   ],
   "source": [
    "model.fit(X,y)"
   ]
  },
  {
   "cell_type": "code",
   "execution_count": 10,
   "metadata": {
    "collapsed": true
   },
   "outputs": [],
   "source": [
    "data = scipy.io.loadmat('data/spamTest.mat')"
   ]
  },
  {
   "cell_type": "code",
   "execution_count": 11,
   "metadata": {
    "collapsed": false
   },
   "outputs": [],
   "source": [
    "X = data['Xtest']\n",
    "y = data['ytest'].flatten()"
   ]
  },
  {
   "cell_type": "code",
   "execution_count": 12,
   "metadata": {
    "collapsed": true
   },
   "outputs": [],
   "source": [
    "p = model.predict(X)"
   ]
  },
  {
   "cell_type": "code",
   "execution_count": 13,
   "metadata": {
    "collapsed": false
   },
   "outputs": [
    {
     "data": {
      "text/plain": [
       "98.9"
      ]
     },
     "execution_count": 13,
     "metadata": {},
     "output_type": "execute_result"
    }
   ],
   "source": [
    "float(len(np.where(p==y)[0])) / len(y) * 100"
   ]
  },
  {
   "cell_type": "code",
   "execution_count": 14,
   "metadata": {
    "collapsed": false
   },
   "outputs": [
    {
     "name": "stderr",
     "output_type": "stream",
     "text": [
      "/Users/andy/anaconda/lib/python2.7/site-packages/sklearn/utils/validation.py:386: DeprecationWarning: Passing 1d arrays as data is deprecated in 0.17 and willraise ValueError in 0.19. Reshape your data either using X.reshape(-1, 1) if your data has a single feature or X.reshape(1, -1) if it contains a single sample.\n",
      "  DeprecationWarning)\n"
     ]
    }
   ],
   "source": [
    "file = open('data/spamSample1.txt', 'r')\n",
    "file_contents = file.readlines()\n",
    "word_indices = processEmail(''.join(file_contents))\n",
    "x = emailFeatures(word_indices)\n",
    "p = model.predict(x)"
   ]
  },
  {
   "cell_type": "code",
   "execution_count": 15,
   "metadata": {
    "collapsed": false
   },
   "outputs": [
    {
     "data": {
      "text/plain": [
       "array([1], dtype=uint8)"
      ]
     },
     "execution_count": 15,
     "metadata": {},
     "output_type": "execute_result"
    }
   ],
   "source": [
    "p"
   ]
  },
  {
   "cell_type": "code",
   "execution_count": null,
   "metadata": {
    "collapsed": true
   },
   "outputs": [],
   "source": []
  }
 ],
 "metadata": {
  "kernelspec": {
   "display_name": "Python 2",
   "language": "python",
   "name": "python2"
  },
  "language_info": {
   "codemirror_mode": {
    "name": "ipython",
    "version": 2
   },
   "file_extension": ".py",
   "mimetype": "text/x-python",
   "name": "python",
   "nbconvert_exporter": "python",
   "pygments_lexer": "ipython2",
   "version": "2.7.12"
  }
 },
 "nbformat": 4,
 "nbformat_minor": 0
}
