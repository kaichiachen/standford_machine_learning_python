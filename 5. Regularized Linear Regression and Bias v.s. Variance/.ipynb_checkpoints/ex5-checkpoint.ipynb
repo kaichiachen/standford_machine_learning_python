{
 "cells": [
  {
   "cell_type": "code",
   "execution_count": 1,
   "metadata": {
    "collapsed": true
   },
   "outputs": [],
   "source": [
    "import numpy as np\n",
    "import matplotlib.pyplot as plt\n",
    "import scipy.io\n",
    "from scipy import optimize\n",
    "%matplotlib inline"
   ]
  },
  {
   "cell_type": "code",
   "execution_count": 2,
   "metadata": {
    "collapsed": false
   },
   "outputs": [],
   "source": [
    "data = scipy.io.loadmat('data/ex5data1.mat')"
   ]
  },
  {
   "cell_type": "code",
   "execution_count": 3,
   "metadata": {
    "collapsed": false
   },
   "outputs": [],
   "source": [
    "X = np.array(data['X'])\n",
    "Xtest = np.array(data['Xtest'])\n",
    "Xval = np.array(data['Xval'])\n",
    "y = np.array(data['y'])\n",
    "ytest = np.array(data['ytest'])\n",
    "yval = np.array(data['yval'])"
   ]
  },
  {
   "cell_type": "code",
   "execution_count": 4,
   "metadata": {
    "collapsed": false
   },
   "outputs": [
    {
     "name": "stdout",
     "output_type": "stream",
     "text": [
      "12\n"
     ]
    },
    {
     "data": {
      "text/plain": [
       "True"
      ]
     },
     "execution_count": 4,
     "metadata": {},
     "output_type": "execute_result"
    }
   ],
   "source": [
    "print len(X)\n",
    "len(X) == len(y) and len(Xtest) == len(ytest) and len(Xval) == len(yval)"
   ]
  },
  {
   "cell_type": "code",
   "execution_count": 5,
   "metadata": {
    "collapsed": false
   },
   "outputs": [
    {
     "data": {
      "image/png": "[encoded data removed]",
      "text/plain": [
       "<matplotlib.figure.Figure at 0x109bb3090>"
      ]
     },
     "metadata": {},
     "output_type": "display_data"
    }
   ],
   "source": [
    "plt.plot(X,y,'rx')\n",
    "plt.grid(True)"
   ]
  },
  {
   "cell_type": "code",
   "execution_count": 28,
   "metadata": {
    "collapsed": false
   },
   "outputs": [
    {
     "data": {
      "text/plain": [
       "(304.03485888693092, array([[ -15.30301567],\n",
       "        [ 598.25074417]]))"
      ]
     },
     "execution_count": 28,
     "metadata": {},
     "output_type": "execute_result"
    }
   ],
   "source": [
    "def linearRegCostFunction(X, y, theta, Lambda):\n",
    "    theta = np.c_[theta]\n",
    "    H = np.dot(X, theta)\n",
    "    T = (H - y) ** 2\n",
    "    J = np.sum(T) / 2 / len(y) + Lambda / 2 / len(y) * np.sum(theta ** 2)\n",
    "    print Lambda / 2 / len(y) * np.sum(theta ** 2)\n",
    "    \n",
    "    theta[0] = [0]\n",
    "    grad = X.T.dot(H - y) / len(y) + Lambda / len(y) * theta\n",
    "    \n",
    "    return J, grad\n",
    "linearRegCostFunction(np.column_stack((np.ones(X.shape[0]), X)), y, np.c_[np.ones(X.shape[1] + 1)], 1.0)"
   ]
  },
  {
   "cell_type": "code",
   "execution_count": 7,
   "metadata": {
    "collapsed": false
   },
   "outputs": [
    {
     "name": "stdout",
     "output_type": "stream",
     "text": [
      "Optimization terminated successfully.\n",
      "         Current function value: 22.373906\n",
      "         Iterations: 79\n",
      "         Function evaluations: 152\n"
     ]
    },
    {
     "data": {
      "text/plain": [
       "(array([ 13.08787505,   0.36777935]), 22.373906495538417)"
      ]
     },
     "execution_count": 7,
     "metadata": {},
     "output_type": "execute_result"
    }
   ],
   "source": [
    "def trainLinearReg(X, y, Lambda):\n",
    "    initial_theta = np.c_[np.zeros(X.shape[1])]\n",
    "    costFunction = lambda t : linearRegCostFunction(X, y, t, Lambda)[0]\n",
    "    options = {'full_output': True, 'maxiter': 5000}\n",
    "    theta,cost , _, _, _ = optimize.fmin(costFunction, initial_theta, **options)\n",
    "    return theta, cost\n",
    "theta, cost = trainLinearReg(np.column_stack((np.ones(X.shape[0]), X)), y, 0)\n",
    "theta, cost"
   ]
  },
  {
   "cell_type": "code",
   "execution_count": 8,
   "metadata": {
    "collapsed": false,
    "scrolled": true
   },
   "outputs": [
    {
     "data": {
      "text/plain": [
       "(array([ -5.,   0.,   5.,  10.,  15.,  20.,  25.,  30.,  35.,  40.]),\n",
       " <a list of 10 Text yticklabel objects>)"
      ]
     },
     "execution_count": 8,
     "metadata": {},
     "output_type": "execute_result"
    },
    {
     "data": {
      "image/png": "[encoded data removed]",
      "text/plain": [
       "<matplotlib.figure.Figure at 0x109e156d0>"
      ]
     },
     "metadata": {},
     "output_type": "display_data"
    }
   ],
   "source": [
    "plt.figure(figsize=(6, 6))\n",
    "plt.plot(X,y,'rx')\n",
    "plt.plot(X, np.column_stack((np.ones(X.shape[0]), X)).dot(theta))\n",
    "plt.xlabel('X', color='w')\n",
    "plt.ylabel('y', color='w')\n",
    "plt.grid(True)\n",
    "plt.xticks(color='w')\n",
    "plt.yticks(color='w')"
   ]
  },
  {
   "cell_type": "code",
   "execution_count": 9,
   "metadata": {
    "collapsed": false
   },
   "outputs": [
    {
     "name": "stdout",
     "output_type": "stream",
     "text": [
      "Optimization terminated successfully.\n",
      "         Current function value: 0.000000\n",
      "         Iterations: 46\n",
      "         Function evaluations: 88\n",
      "Optimization terminated successfully.\n",
      "         Current function value: 0.416948\n",
      "         Iterations: 41\n",
      "         Function evaluations: 79\n",
      "Optimization terminated successfully.\n",
      "         Current function value: 3.286595\n",
      "         Iterations: 162\n",
      "         Function evaluations: 302\n",
      "Optimization terminated successfully.\n",
      "         Current function value: 2.842678\n",
      "         Iterations: 126\n",
      "         Function evaluations: 226\n",
      "Optimization terminated successfully.\n",
      "         Current function value: 13.154049\n",
      "         Iterations: 135\n",
      "         Function evaluations: 254\n",
      "Optimization terminated successfully.\n",
      "         Current function value: 19.443963\n",
      "         Iterations: 161\n",
      "         Function evaluations: 297\n",
      "Optimization terminated successfully.\n",
      "         Current function value: 20.098522\n",
      "         Iterations: 132\n",
      "         Function evaluations: 241\n",
      "Optimization terminated successfully.\n",
      "         Current function value: 18.172859\n",
      "         Iterations: 146\n",
      "         Function evaluations: 274\n",
      "Optimization terminated successfully.\n",
      "         Current function value: 22.609405\n",
      "         Iterations: 154\n",
      "         Function evaluations: 281\n",
      "Optimization terminated successfully.\n",
      "         Current function value: 23.261462\n",
      "         Iterations: 144\n",
      "         Function evaluations: 263\n",
      "Optimization terminated successfully.\n",
      "         Current function value: 24.317250\n",
      "         Iterations: 135\n",
      "         Function evaluations: 247\n",
      "Optimization terminated successfully.\n",
      "         Current function value: 22.373906\n",
      "         Iterations: 117\n",
      "         Function evaluations: 217\n"
     ]
    }
   ],
   "source": [
    "def learningCurve(X, y, Xval, yval, Lambda):\n",
    "    theta = np.array([])\n",
    "    error_train = []\n",
    "    error_val = []\n",
    "    for i in range(len(y)):\n",
    "        theta, _ = trainLinearReg(np.column_stack((np.ones(i+1), X[:i+1])), y[:i+1], Lambda)\n",
    "        error_train.append(linearRegCostFunction(np.column_stack((np.ones(i+1), X[:i+1])), y[:i + 1], theta, 0 )[0])\n",
    "        error_val.append(linearRegCostFunction(np.column_stack((np.ones(Xval.shape[0]), Xval)), yval, theta, 0 )[0])\n",
    "    return error_train, error_val\n",
    "error_train, error_val = learningCurve(np.column_stack((np.ones(X.shape[0]), X)), y, np.column_stack((np.ones(Xval.shape[0]), Xval)), yval, 0)"
   ]
  },
  {
   "cell_type": "code",
   "execution_count": 10,
   "metadata": {
    "collapsed": false
   },
   "outputs": [
    {
     "data": {
      "text/plain": [
       "(array([   0.,   50.,  100.,  150.,  200.,  250.]),\n",
       " <a list of 6 Text yticklabel objects>)"
      ]
     },
     "execution_count": 10,
     "metadata": {},
     "output_type": "execute_result"
    },
    {
     "data": {
      "image/png": "[encoded data removed]",
      "text/plain": [
       "<matplotlib.figure.Figure at 0x109f63050>"
      ]
     },
     "metadata": {},
     "output_type": "display_data"
    }
   ],
   "source": [
    "plt.figure(figsize=(6, 6))\n",
    "plt.plot(range(len(y)), error_train, label='train')\n",
    "plt.plot(range(len(y)), error_val, label='cv')\n",
    "plt.xlabel('X', color='w')\n",
    "plt.ylabel('y', color='w')\n",
    "plt.grid(True)\n",
    "plt.legend(loc=0)\n",
    "plt.xticks(color='w')\n",
    "plt.yticks(color='w')"
   ]
  },
  {
   "cell_type": "code",
   "execution_count": 11,
   "metadata": {
    "collapsed": true
   },
   "outputs": [],
   "source": [
    "p = 8"
   ]
  },
  {
   "cell_type": "code",
   "execution_count": 12,
   "metadata": {
    "collapsed": false
   },
   "outputs": [
    {
     "data": {
      "text/plain": [
       "array([[ -1.59367581e+01,   2.53980260e+02,  -4.04762197e+03,\n",
       "          6.45059724e+04,  -1.02801608e+06,   1.63832436e+07,\n",
       "         -2.61095791e+08,   4.16102047e+09]])"
      ]
     },
     "execution_count": 12,
     "metadata": {},
     "output_type": "execute_result"
    }
   ],
   "source": [
    "def polyFeatures(X, p):\n",
    "    X_poly = np.zeros((X.shape[0], p))\n",
    "    for i in range(p):\n",
    "        X_poly[:,i] = (X ** (i + 1)).T[0]\n",
    "    return X_poly\n",
    "X_poly = polyFeatures(X, p)\n",
    "X_poly[:1]"
   ]
  },
  {
   "cell_type": "code",
   "execution_count": 13,
   "metadata": {
    "collapsed": false
   },
   "outputs": [
    {
     "name": "stdout",
     "output_type": "stream",
     "text": [
      "[ -5.08542635e+00   8.48904834e+02  -1.28290173e+04   1.28967789e+06\n",
      "  -2.98314592e+07   2.29330301e+09  -6.84527284e+10   4.42233759e+12]\n",
      "[  2.86887308e+01   7.54346385e+02   4.61380464e+04   1.66104441e+06\n",
      "   8.99399404e+07   3.68940106e+09   1.89508052e+11   8.31905350e+12]\n"
     ]
    }
   ],
   "source": [
    "def featureNormalize(X_poly):\n",
    "    mean = X_poly.mean(axis=0)\n",
    "    sigma = X_poly.std(axis=0)\n",
    "    return (X_poly - mean) / sigma, mean, sigma\n",
    "X_poly, mean, sigma = featureNormalize(X_poly)\n",
    "X_poly = np.column_stack((np.ones(X_poly.shape[0]), X_poly))\n",
    "print mean\n",
    "print sigma"
   ]
  },
  {
   "cell_type": "code",
   "execution_count": 14,
   "metadata": {
    "collapsed": false
   },
   "outputs": [],
   "source": [
    "X_poly_test = polyFeatures(Xtest, p)\n",
    "X_poly_test = (X_poly_test - mean) / sigma\n",
    "X_poly_test = np.column_stack((np.ones(X_poly_test.shape[0]), X_poly_test))"
   ]
  },
  {
   "cell_type": "code",
   "execution_count": 15,
   "metadata": {
    "collapsed": true
   },
   "outputs": [],
   "source": [
    "X_poly_val = polyFeatures(Xval, p)\n",
    "X_poly_val = (X_poly_val - mean) / sigma\n",
    "X_poly_val = np.column_stack((np.ones(X_poly_val.shape[0]), X_poly_val))"
   ]
  },
  {
   "cell_type": "code",
   "execution_count": 16,
   "metadata": {
    "collapsed": false
   },
   "outputs": [
    {
     "name": "stdout",
     "output_type": "stream",
     "text": [
      "Warning: Maximum number of function evaluations has been exceeded.\n"
     ]
    }
   ],
   "source": [
    "theta, _ = trainLinearReg(X_poly, y, 0)"
   ]
  },
  {
   "cell_type": "code",
   "execution_count": 17,
   "metadata": {
    "collapsed": true
   },
   "outputs": [],
   "source": [
    "Lambda = 0"
   ]
  },
  {
   "cell_type": "code",
   "execution_count": 18,
   "metadata": {
    "collapsed": false
   },
   "outputs": [
    {
     "name": "stdout",
     "output_type": "stream",
     "text": [
      "Optimization terminated successfully.\n",
      "         Current function value: 0.000000\n",
      "         Iterations: 231\n",
      "         Function evaluations: 366\n",
      "Optimization terminated successfully.\n",
      "         Current function value: 0.000000\n",
      "         Iterations: 392\n",
      "         Function evaluations: 604\n",
      "Optimization terminated successfully.\n",
      "         Current function value: 0.000000\n",
      "         Iterations: 811\n",
      "         Function evaluations: 1215\n",
      "Optimization terminated successfully.\n",
      "         Current function value: 0.265767\n",
      "         Iterations: 913\n",
      "         Function evaluations: 1342\n",
      "Optimization terminated successfully.\n",
      "         Current function value: 1.199797\n",
      "         Iterations: 1382\n",
      "         Function evaluations: 1999\n",
      "Warning: Maximum number of function evaluations has been exceeded.\n",
      "Warning: Maximum number of function evaluations has been exceeded.\n",
      "Optimization terminated successfully.\n",
      "         Current function value: 1.435993\n",
      "         Iterations: 1119\n",
      "         Function evaluations: 1632\n",
      "Optimization terminated successfully.\n",
      "         Current function value: 2.316888\n",
      "         Iterations: 1190\n",
      "         Function evaluations: 1724\n",
      "Optimization terminated successfully.\n",
      "         Current function value: 1.190090\n",
      "         Iterations: 1155\n",
      "         Function evaluations: 1670\n",
      "Optimization terminated successfully.\n",
      "         Current function value: 0.739189\n",
      "         Iterations: 1104\n",
      "         Function evaluations: 1605\n",
      "Optimization terminated successfully.\n",
      "         Current function value: 5.940831\n",
      "         Iterations: 1351\n",
      "         Function evaluations: 1974\n"
     ]
    },
    {
     "data": {
      "text/plain": [
       "(array([   0.,  100.,  200.,  300.,  400.,  500.,  600.]),\n",
       " <a list of 7 Text yticklabel objects>)"
      ]
     },
     "execution_count": 18,
     "metadata": {},
     "output_type": "execute_result"
    },
    {
     "data": {
      "image/png": "[encoded data removed]",
      "text/plain": [
       "<matplotlib.figure.Figure at 0x109e0aa90>"
      ]
     },
     "metadata": {},
     "output_type": "display_data"
    }
   ],
   "source": [
    "error_train, error_val = learningCurve(X_poly, y, X_poly_val, yval, 0)\n",
    "plt.figure(figsize=(6, 6))\n",
    "plt.plot(range(len(y)), error_train, label='train')\n",
    "plt.plot(range(len(y)), error_val, label='cv')\n",
    "plt.xlabel('X', color='w')\n",
    "plt.ylabel('y', color='w')\n",
    "plt.grid(True)\n",
    "plt.legend(loc=0)\n",
    "plt.xticks(color='w')\n",
    "plt.yticks(color='w')"
   ]
  },
  {
   "cell_type": "code",
   "execution_count": 32,
   "metadata": {
    "collapsed": false
   },
   "outputs": [
    {
     "name": "stdout",
     "output_type": "stream",
     "text": [
      "Optimization terminated successfully.\n",
      "         Current function value: 105.411324\n",
      "         Iterations: 21\n",
      "         Function evaluations: 42\n",
      "0.289375\n",
      "Optimization terminated successfully.\n",
      "         Current function value: 105.411328\n",
      "         Iterations: 21\n",
      "         Function evaluations: 42\n",
      "0.289375\n",
      "Optimization terminated successfully.\n",
      "         Current function value: 105.411335\n",
      "         Iterations: 21\n",
      "         Function evaluations: 42\n",
      "0.289375\n",
      "Optimization terminated successfully.\n",
      "         Current function value: 105.411359\n",
      "         Iterations: 21\n",
      "         Function evaluations: 42\n",
      "0.289375\n",
      "Optimization terminated successfully.\n",
      "         Current function value: 105.411429\n",
      "         Iterations: 21\n",
      "         Function evaluations: 42\n",
      "0.289375\n",
      "Optimization terminated successfully.\n",
      "         Current function value: 105.411673\n",
      "         Iterations: 21\n",
      "         Function evaluations: 42\n",
      "0.289375\n",
      "Optimization terminated successfully.\n",
      "         Current function value: 105.412371\n",
      "         Iterations: 21\n",
      "         Function evaluations: 42\n",
      "0.289375\n",
      "Optimization terminated successfully.\n",
      "         Current function value: 105.414814\n",
      "         Iterations: 21\n",
      "         Function evaluations: 42\n",
      "0.289375\n",
      "Optimization terminated successfully.\n",
      "         Current function value: 105.421789\n",
      "         Iterations: 21\n",
      "         Function evaluations: 42\n",
      "0.2893125\n",
      "Optimization terminated successfully.\n",
      "         Current function value: 105.446181\n",
      "         Iterations: 21\n",
      "         Function evaluations: 42\n",
      "0.2890625\n"
     ]
    }
   ],
   "source": [
    "def validationCurve(X, y, Xval, yval):\n",
    "    lambda_vec = np.array([0 ,0.001 ,0.003 ,0.01 ,0.03 ,0.1 ,0.3 ,1 ,3 ,10],dtype=float)\n",
    "    error_train = np.zeros(len(lambda_vec))\n",
    "    error_val = np.zeros(len(lambda_vec))\n",
    "    for i in range(len(lambda_vec)):\n",
    "        Lambda = lambda_vec[i]\n",
    "        theta, _ = trainLinearReg(X, y, Lambda)\n",
    "        print theta[0]\n",
    "        error_train[i]  = linearRegCostFunction(X, y ,theta, Lambda=0)[0]\n",
    "        error_val[i]  = linearRegCostFunction(Xval, yval ,theta, Lambda=0)[1]\n",
    "    return lambda_vec, error_train, error_val\n",
    "lambda_vec, error_train, error_val = validationCurve(X,y,Xval,yval)"
   ]
  },
  {
   "cell_type": "code",
   "execution_count": 20,
   "metadata": {
    "collapsed": false
   },
   "outputs": [
    {
     "name": "stderr",
     "output_type": "stream",
     "text": [
      "/Users/andy/anaconda/lib/python2.7/site-packages/matplotlib/legend.py:633: UserWarning: Legend does not support 'T' instances.\n",
      "A proxy artist may be used instead.\n",
      "See: http://matplotlib.org/users/legend_guide.html#using-proxy-artist\n",
      "  \"#using-proxy-artist\".format(orig_handle)\n",
      "/Users/andy/anaconda/lib/python2.7/site-packages/matplotlib/legend.py:633: UserWarning: Legend does not support 'r' instances.\n",
      "A proxy artist may be used instead.\n",
      "See: http://matplotlib.org/users/legend_guide.html#using-proxy-artist\n",
      "  \"#using-proxy-artist\".format(orig_handle)\n",
      "/Users/andy/anaconda/lib/python2.7/site-packages/matplotlib/legend.py:633: UserWarning: Legend does not support 'a' instances.\n",
      "A proxy artist may be used instead.\n",
      "See: http://matplotlib.org/users/legend_guide.html#using-proxy-artist\n",
      "  \"#using-proxy-artist\".format(orig_handle)\n",
      "/Users/andy/anaconda/lib/python2.7/site-packages/matplotlib/legend.py:633: UserWarning: Legend does not support 'i' instances.\n",
      "A proxy artist may be used instead.\n",
      "See: http://matplotlib.org/users/legend_guide.html#using-proxy-artist\n",
      "  \"#using-proxy-artist\".format(orig_handle)\n",
      "/Users/andy/anaconda/lib/python2.7/site-packages/matplotlib/legend.py:633: UserWarning: Legend does not support 'n' instances.\n",
      "A proxy artist may be used instead.\n",
      "See: http://matplotlib.org/users/legend_guide.html#using-proxy-artist\n",
      "  \"#using-proxy-artist\".format(orig_handle)\n"
     ]
    },
    {
     "data": {
      "text/plain": [
       "<matplotlib.text.Text at 0x10a0bb2d0>"
      ]
     },
     "execution_count": 20,
     "metadata": {},
     "output_type": "execute_result"
    },
    {
     "data": {
      "image/png": "[encoded data removed]",
      "text/plain": [
       "<matplotlib.figure.Figure at 0x109be4f50>"
      ]
     },
     "metadata": {},
     "output_type": "display_data"
    }
   ],
   "source": [
    "plt.plot(lambda_vec, error_train, lambda_vec, error_val)\n",
    "plt.legend('Train', 'Cross Validation', loc=0)\n",
    "plt.xlabel('Lambda')\n",
    "plt.ylabel('Error')"
   ]
  }
 ],
 "metadata": {
  "kernelspec": {
   "display_name": "Python 2",
   "language": "python",
   "name": "python2"
  },
  "language_info": {
   "codemirror_mode": {
    "name": "ipython",
    "version": 2
   },
   "file_extension": ".py",
   "mimetype": "text/x-python",
   "name": "python",
   "nbconvert_exporter": "python",
   "pygments_lexer": "ipython2",
   "version": "2.7.12"
  }
 },
 "nbformat": 4,
 "nbformat_minor": 0
}
