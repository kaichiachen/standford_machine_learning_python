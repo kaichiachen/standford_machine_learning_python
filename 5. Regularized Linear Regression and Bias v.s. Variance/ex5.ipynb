{
 "cells": [
  {
   "cell_type": "code",
   "execution_count": 1,
   "metadata": {
    "collapsed": true
   },
   "outputs": [],
   "source": [
    "import numpy as np\n",
    "import matplotlib.pyplot as plt\n",
    "import scipy.io\n",
    "from scipy import optimize\n",
    "%matplotlib inline"
   ]
  },
  {
   "cell_type": "code",
   "execution_count": 2,
   "metadata": {
    "collapsed": false
   },
   "outputs": [],
   "source": [
    "data = scipy.io.loadmat('data/ex5data1.mat')"
   ]
  },
  {
   "cell_type": "code",
   "execution_count": 3,
   "metadata": {
    "collapsed": false
   },
   "outputs": [],
   "source": [
    "X = np.array(data['X'])\n",
    "Xtest = np.array(data['Xtest'])\n",
    "Xval = np.array(data['Xval'])\n",
    "y = np.array(data['y'])\n",
    "ytest = np.array(data['ytest'])\n",
    "yval = np.array(data['yval'])"
   ]
  },
  {
   "cell_type": "code",
   "execution_count": 4,
   "metadata": {
    "collapsed": false
   },
   "outputs": [
    {
     "data": {
      "text/plain": [
       "True"
      ]
     },
     "execution_count": 4,
     "metadata": {},
     "output_type": "execute_result"
    }
   ],
   "source": [
    "len(X) == len(y) and len(Xtest) == len(ytest) and len(Xval) == len(yval)"
   ]
  },
  {
   "cell_type": "code",
   "execution_count": 5,
   "metadata": {
    "collapsed": false
   },
   "outputs": [
    {
     "data": {
      "image/png": "[encoded data removed]",
      "text/plain": [
       "<matplotlib.figure.Figure at 0x109bb8090>"
      ]
     },
     "metadata": {},
     "output_type": "display_data"
    }
   ],
   "source": [
    "plt.plot(X,y,'rx')\n",
    "plt.grid(True)"
   ]
  },
  {
   "cell_type": "code",
   "execution_count": 6,
   "metadata": {
    "collapsed": false
   },
   "outputs": [
    {
     "data": {
      "text/plain": [
       "303.95152555359761"
      ]
     },
     "execution_count": 6,
     "metadata": {},
     "output_type": "execute_result"
    }
   ],
   "source": [
    "def linearRegCostFunction(X, y, theta, Lambda):\n",
    "    theta = np.c_[theta]\n",
    "    H = np.dot(X, theta)\n",
    "    T = (H - y) ** 2\n",
    "    J = np.sum(T) / 2 / len(y) + Lambda / 2 / len(y) * np.sum(theta ** 2)\n",
    "    \n",
    "    theta[0] = [0]\n",
    "    grad = X.T.dot(H - y) / len(y) + Lambda / len(y) * theta\n",
    "    \n",
    "    return J\n",
    "linearRegCostFunction(np.column_stack((np.ones(X.shape[0]), X)), y, np.c_[np.ones(X.shape[1] + 1)], 1)"
   ]
  },
  {
   "cell_type": "code",
   "execution_count": 7,
   "metadata": {
    "collapsed": false
   },
   "outputs": [
    {
     "name": "stdout",
     "output_type": "stream",
     "text": [
      "Optimization terminated successfully.\n",
      "         Current function value: 22.373906\n",
      "         Iterations: 79\n",
      "         Function evaluations: 152\n"
     ]
    },
    {
     "data": {
      "text/plain": [
       "array([ 13.08787505,   0.36777935])"
      ]
     },
     "execution_count": 7,
     "metadata": {},
     "output_type": "execute_result"
    }
   ],
   "source": [
    "def trainLinearReg(X, y, Lambda):\n",
    "    initial_theta = np.c_[np.zeros(X.shape[1])]\n",
    "    costFunction = lambda t : linearRegCostFunction(X, y, t, Lambda)\n",
    "    options = {'full_output': True, 'maxiter': 5000}\n",
    "    theta,_, _, _, _ = optimize.fmin(costFunction, initial_theta, **options)\n",
    "    return theta\n",
    "theta = trainLinearReg(np.column_stack((np.ones(X.shape[0]), X)), y, 0)\n",
    "theta"
   ]
  },
  {
   "cell_type": "code",
   "execution_count": 8,
   "metadata": {
    "collapsed": false,
    "scrolled": true
   },
   "outputs": [
    {
     "data": {
      "text/plain": [
       "(array([ -5.,   0.,   5.,  10.,  15.,  20.,  25.,  30.,  35.,  40.]),\n",
       " <a list of 10 Text yticklabel objects>)"
      ]
     },
     "execution_count": 8,
     "metadata": {},
     "output_type": "execute_result"
    },
    {
     "data": {
      "image/png": "[encoded data removed]",
      "text/plain": [
       "<matplotlib.figure.Figure at 0x109bf4bd0>"
      ]
     },
     "metadata": {},
     "output_type": "display_data"
    }
   ],
   "source": [
    "plt.figure(figsize=(6, 6))\n",
    "plt.plot(X,y,'rx')\n",
    "plt.plot(X, np.column_stack((np.ones(X.shape[0]), X)).dot(theta))\n",
    "plt.xlabel('X', color='w')\n",
    "plt.ylabel('y', color='w')\n",
    "plt.grid(True)\n",
    "plt.xticks(color='w')\n",
    "plt.yticks(color='w')"
   ]
  },
  {
   "cell_type": "code",
   "execution_count": 9,
   "metadata": {
    "collapsed": false
   },
   "outputs": [
    {
     "name": "stdout",
     "output_type": "stream",
     "text": [
      "Optimization terminated successfully.\n",
      "         Current function value: 0.000000\n",
      "         Iterations: 46\n",
      "         Function evaluations: 88\n",
      "Optimization terminated successfully.\n",
      "         Current function value: 0.416948\n",
      "         Iterations: 41\n",
      "         Function evaluations: 79\n",
      "Optimization terminated successfully.\n",
      "         Current function value: 3.286595\n",
      "         Iterations: 162\n",
      "         Function evaluations: 302\n",
      "Optimization terminated successfully.\n",
      "         Current function value: 2.842678\n",
      "         Iterations: 126\n",
      "         Function evaluations: 226\n",
      "Optimization terminated successfully.\n",
      "         Current function value: 13.154049\n",
      "         Iterations: 135\n",
      "         Function evaluations: 254\n",
      "Optimization terminated successfully.\n",
      "         Current function value: 19.443963\n",
      "         Iterations: 161\n",
      "         Function evaluations: 297\n",
      "Optimization terminated successfully.\n",
      "         Current function value: 20.098522\n",
      "         Iterations: 132\n",
      "         Function evaluations: 241\n",
      "Optimization terminated successfully.\n",
      "         Current function value: 18.172859\n",
      "         Iterations: 146\n",
      "         Function evaluations: 274\n",
      "Optimization terminated successfully.\n",
      "         Current function value: 22.609405\n",
      "         Iterations: 154\n",
      "         Function evaluations: 281\n",
      "Optimization terminated successfully.\n",
      "         Current function value: 23.261462\n",
      "         Iterations: 144\n",
      "         Function evaluations: 263\n",
      "Optimization terminated successfully.\n",
      "         Current function value: 24.317250\n",
      "         Iterations: 135\n",
      "         Function evaluations: 247\n",
      "Optimization terminated successfully.\n",
      "         Current function value: 22.373906\n",
      "         Iterations: 117\n",
      "         Function evaluations: 217\n"
     ]
    }
   ],
   "source": [
    "def learningCurve(X, y, Xval, yval, Lambda):\n",
    "    theta = np.array([])\n",
    "    error_train = []\n",
    "    error_val = []\n",
    "    for i in range(len(y)):\n",
    "        theta = trainLinearReg(np.column_stack((np.ones(i+1), X[:i+1])), y[:i+1], Lambda)\n",
    "        error_train.append(linearRegCostFunction(np.column_stack((np.ones(i+1), X[:i+1])), y[:i + 1], theta, 0 ))\n",
    "        error_val.append(linearRegCostFunction(np.column_stack((np.ones(Xval.shape[0]), Xval)), yval, theta, 0 ))\n",
    "    return error_train, error_val\n",
    "error_train, error_val = learningCurve(np.column_stack((np.ones(X.shape[0]), X)), y, np.column_stack((np.ones(Xval.shape[0]), Xval)), yval, 0)"
   ]
  },
  {
   "cell_type": "code",
   "execution_count": 10,
   "metadata": {
    "collapsed": false
   },
   "outputs": [
    {
     "data": {
      "text/plain": [
       "(array([   0.,   50.,  100.,  150.,  200.,  250.]),\n",
       " <a list of 6 Text yticklabel objects>)"
      ]
     },
     "execution_count": 10,
     "metadata": {},
     "output_type": "execute_result"
    },
    {
     "data": {
      "image/png": "[encoded data removed]",
      "text/plain": [
       "<matplotlib.figure.Figure at 0x109c0f690>"
      ]
     },
     "metadata": {},
     "output_type": "display_data"
    }
   ],
   "source": [
    "plt.figure(figsize=(6, 6))\n",
    "plt.plot(range(len(y)), error_train, label='train')\n",
    "plt.plot(range(len(y)), error_val, label='cv')\n",
    "plt.xlabel('X', color='w')\n",
    "plt.ylabel('y', color='w')\n",
    "plt.grid(True)\n",
    "plt.legend(loc=0)\n",
    "plt.xticks(color='w')\n",
    "plt.yticks(color='w')"
   ]
  },
  {
   "cell_type": "code",
   "execution_count": 11,
   "metadata": {
    "collapsed": true
   },
   "outputs": [],
   "source": [
    "p = 8"
   ]
  },
  {
   "cell_type": "code",
   "execution_count": 12,
   "metadata": {
    "collapsed": false
   },
   "outputs": [],
   "source": [
    "def polyFeatures(X, p):\n",
    "    X_poly = np.zeros((X.shape[0], p))\n",
    "    for i in range(p):\n",
    "        X_poly[:,i] = (X ** (i + 1)).T[0]\n",
    "    return X_poly\n",
    "X_poly = polyFeatures(X, p)"
   ]
  },
  {
   "cell_type": "code",
   "execution_count": 13,
   "metadata": {
    "collapsed": false
   },
   "outputs": [],
   "source": [
    "def featureNormalize(X_poly):\n",
    "    mean = np.c_[X_poly.mean(axis=0)]\n",
    "    sigma = np.c_[X_poly.std(axis=0)]\n",
    "    return (X_poly - mean.T) / sigma.T, mean.T, sigma.T\n",
    "X_poly, mean, sigma = featureNormalize(X_poly)\n",
    "X_poly = np.column_stack((np.ones(X_poly.shape[0]), X_poly))"
   ]
  },
  {
   "cell_type": "code",
   "execution_count": 14,
   "metadata": {
    "collapsed": false
   },
   "outputs": [],
   "source": [
    "X_poly_test = polyFeatures(Xtest, p)\n",
    "X_poly_test = (X_poly_test - mean) / sigma\n",
    "X_poly_test = np.column_stack((np.ones(X_poly_test.shape[0]), X_poly_test))"
   ]
  },
  {
   "cell_type": "code",
   "execution_count": 15,
   "metadata": {
    "collapsed": true
   },
   "outputs": [],
   "source": [
    "X_poly_val = polyFeatures(Xval, p)\n",
    "X_poly_val = (X_poly_val - mean) / sigma\n",
    "X_poly_val = np.column_stack((np.ones(X_poly_val.shape[0]), X_poly_val))"
   ]
  },
  {
   "cell_type": "code",
   "execution_count": 16,
   "metadata": {
    "collapsed": false
   },
   "outputs": [
    {
     "name": "stdout",
     "output_type": "stream",
     "text": [
      "Warning: Maximum number of function evaluations has been exceeded.\n"
     ]
    }
   ],
   "source": [
    "theta = trainLinearReg(X_poly, y, 0)"
   ]
  },
  {
   "cell_type": "code",
   "execution_count": 17,
   "metadata": {
    "collapsed": false
   },
   "outputs": [
    {
     "data": {
      "text/plain": [
       "array([[  2.86887308e+01,   7.54346385e+02,   4.61380464e+04,\n",
       "          1.66104441e+06,   8.99399404e+07,   3.68940106e+09,\n",
       "          1.89508052e+11,   8.31905350e+12]])"
      ]
     },
     "execution_count": 17,
     "metadata": {},
     "output_type": "execute_result"
    }
   ],
   "source": [
    "sigma"
   ]
  },
  {
   "cell_type": "code",
   "execution_count": 19,
   "metadata": {
    "collapsed": false
   },
   "outputs": [
    {
     "name": "stdout",
     "output_type": "stream",
     "text": [
      "Optimization terminated successfully.\n",
      "         Current function value: 0.000000\n",
      "         Iterations: 231\n",
      "         Function evaluations: 366\n",
      "Optimization terminated successfully.\n",
      "         Current function value: 0.000000\n",
      "         Iterations: 392\n",
      "         Function evaluations: 604\n",
      "Optimization terminated successfully.\n",
      "         Current function value: 0.000000\n",
      "         Iterations: 811\n",
      "         Function evaluations: 1215\n",
      "Optimization terminated successfully.\n",
      "         Current function value: 0.265767\n",
      "         Iterations: 913\n",
      "         Function evaluations: 1342\n",
      "Optimization terminated successfully.\n",
      "         Current function value: 1.199797\n",
      "         Iterations: 1382\n",
      "         Function evaluations: 1999\n",
      "Warning: Maximum number of function evaluations has been exceeded.\n",
      "Warning: Maximum number of function evaluations has been exceeded.\n",
      "Optimization terminated successfully.\n",
      "         Current function value: 1.435993\n",
      "         Iterations: 1119\n",
      "         Function evaluations: 1632\n",
      "Optimization terminated successfully.\n",
      "         Current function value: 2.316888\n",
      "         Iterations: 1190\n",
      "         Function evaluations: 1724\n",
      "Optimization terminated successfully.\n",
      "         Current function value: 1.190090\n",
      "         Iterations: 1155\n",
      "         Function evaluations: 1670\n",
      "Optimization terminated successfully.\n",
      "         Current function value: 0.739189\n",
      "         Iterations: 1104\n",
      "         Function evaluations: 1605\n",
      "Optimization terminated successfully.\n",
      "         Current function value: 5.940831\n",
      "         Iterations: 1351\n",
      "         Function evaluations: 1974\n"
     ]
    },
    {
     "data": {
      "text/plain": [
       "(array([   0.,  100.,  200.,  300.,  400.,  500.,  600.]),\n",
       " <a list of 7 Text yticklabel objects>)"
      ]
     },
     "execution_count": 19,
     "metadata": {},
     "output_type": "execute_result"
    },
    {
     "data": {
      "image/png": "[encoded data removed]",
      "text/plain": [
       "<matplotlib.figure.Figure at 0x10a328e90>"
      ]
     },
     "metadata": {},
     "output_type": "display_data"
    }
   ],
   "source": [
    "error_train, error_val = learningCurve(X_poly, y, X_poly_val, yval, 0)\n",
    "plt.figure(figsize=(6, 6))\n",
    "plt.plot(range(len(y)), error_train, label='train')\n",
    "plt.plot(range(len(y)), error_val, label='cv')\n",
    "plt.xlabel('X', color='w')\n",
    "plt.ylabel('y', color='w')\n",
    "plt.grid(True)\n",
    "plt.legend(loc=0)\n",
    "plt.xticks(color='w')\n",
    "plt.yticks(color='w')"
   ]
  },
  {
   "cell_type": "code",
   "execution_count": 20,
   "metadata": {
    "collapsed": false
   },
   "outputs": [
    {
     "data": {
      "text/plain": [
       "(array([  0.,   5.,  10.,  15.,  20.,  25.,  30.,  35.,  40.]),\n",
       " <a list of 9 Text yticklabel objects>)"
      ]
     },
     "execution_count": 20,
     "metadata": {},
     "output_type": "execute_result"
    },
    {
     "data": {
      "image/png": "[encoded data removed]",
      "text/plain": [
       "<matplotlib.figure.Figure at 0x10a330490>"
      ]
     },
     "metadata": {},
     "output_type": "display_data"
    }
   ],
   "source": [
    "plt.figure(figsize=(6, 6))\n",
    "plt.plot(X, y, label='train')\n",
    "plt.xlabel('X', color='w')\n",
    "plt.ylabel('y', color='w')\n",
    "plt.grid(True)\n",
    "plt.legend(loc=0)\n",
    "plt.xticks(color='w')\n",
    "plt.yticks(color='w')"
   ]
  }
 ],
 "metadata": {
  "kernelspec": {
   "display_name": "Python 2",
   "language": "python",
   "name": "python2"
  },
  "language_info": {
   "codemirror_mode": {
    "name": "ipython",
    "version": 2
   },
   "file_extension": ".py",
   "mimetype": "text/x-python",
   "name": "python",
   "nbconvert_exporter": "python",
   "pygments_lexer": "ipython2",
   "version": "2.7.12"
  }
 },
 "nbformat": 4,
 "nbformat_minor": 0
}
